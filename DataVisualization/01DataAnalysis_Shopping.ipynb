{
  "nbformat": 4,
  "nbformat_minor": 0,
  "metadata": {
    "colab": {
      "provenance": []
    },
    "kernelspec": {
      "name": "python3",
      "display_name": "Python 3"
    },
    "language_info": {
      "name": "python"
    }
  },
  "cells": [
    {
      "cell_type": "code",
      "execution_count": 1,
      "metadata": {
        "id": "aGcuTI3yDcs0"
      },
      "outputs": [],
      "source": [
        "import pandas"
      ]
    },
    {
      "cell_type": "code",
      "source": [
        "url=\"https://raw.githubusercontent.com/Anamkhan28/Data-Sets/refs/heads/main/Shopping%20Trends%20And%20Customer%20Behaviour%20Dataset.csv\"\n",
        "df=pandas.read_csv(url)\n",
        "print(df)"
      ],
      "metadata": {
        "colab": {
          "base_uri": "https://localhost:8080/"
        },
        "id": "u-5j-f2wDuKr",
        "outputId": "d09f9d90-80a8-453d-874e-88b155f1c37d"
      },
      "execution_count": 14,
      "outputs": [
        {
          "output_type": "stream",
          "name": "stdout",
          "text": [
            "      Unnamed: 0  Customer ID  Age  Gender Item Purchased     Category  \\\n",
            "0              0            1   55    Male         Blouse     Clothing   \n",
            "1              1            2   19    Male        Sweater     Clothing   \n",
            "2              2            3   50    Male          Jeans     Clothing   \n",
            "3              3            4   21    Male        Sandals     Footwear   \n",
            "4              4            5   45    Male         Blouse     Clothing   \n",
            "...          ...          ...  ...     ...            ...          ...   \n",
            "3895        3895         3896   40  Female         Hoodie     Clothing   \n",
            "3896        3896         3897   52  Female       Backpack  Accessories   \n",
            "3897        3897         3898   46  Female           Belt  Accessories   \n",
            "3898        3898         3899   44  Female          Shoes     Footwear   \n",
            "3899        3899         3900   52  Female        Handbag  Accessories   \n",
            "\n",
            "      Purchase Amount (USD)       Location      Color  Season  Review Rating  \\\n",
            "0                        53       Kentucky       Gray  Winter            3.1   \n",
            "1                        64          Maine     Maroon  Winter            3.1   \n",
            "2                        73  Massachusetts     Maroon  Spring            3.1   \n",
            "3                        90   Rhode Island     Maroon  Spring            3.5   \n",
            "4                        49         Oregon  Turquoise  Spring            2.7   \n",
            "...                     ...            ...        ...     ...            ...   \n",
            "3895                     28       Virginia  Turquoise  Summer            4.2   \n",
            "3896                     49           Iowa      White  Spring            4.5   \n",
            "3897                     33     New Jersey      Green  Spring            2.9   \n",
            "3898                     77      Minnesota      Brown  Summer            3.8   \n",
            "3899                     81     California      Beige  Spring            3.1   \n",
            "\n",
            "     Subscription Status   Shipping Type Discount Applied Promo Code Used  \\\n",
            "0                    Yes         Express              Yes             Yes   \n",
            "1                    Yes         Express              Yes             Yes   \n",
            "2                    Yes   Free Shipping              Yes             Yes   \n",
            "3                    Yes    Next Day Air              Yes             Yes   \n",
            "4                    Yes   Free Shipping              Yes             Yes   \n",
            "...                  ...             ...              ...             ...   \n",
            "3895                  No  2-Day Shipping               No              No   \n",
            "3896                  No    Store Pickup               No              No   \n",
            "3897                  No        Standard               No              No   \n",
            "3898                  No         Express               No              No   \n",
            "3899                  No    Store Pickup               No              No   \n",
            "\n",
            "      Previous Purchases Payment Method Frequency of Purchases  \n",
            "0                     14          Venmo            Fortnightly  \n",
            "1                      2           Cash            Fortnightly  \n",
            "2                     23    Credit Card                 Weekly  \n",
            "3                     49         PayPal                 Weekly  \n",
            "4                     31         PayPal               Annually  \n",
            "...                  ...            ...                    ...  \n",
            "3895                  32          Venmo                 Weekly  \n",
            "3896                  41  Bank Transfer              Bi-Weekly  \n",
            "3897                  24          Venmo              Quarterly  \n",
            "3898                  24          Venmo                 Weekly  \n",
            "3899                  33          Venmo              Quarterly  \n",
            "\n",
            "[3900 rows x 18 columns]\n"
          ]
        }
      ]
    },
    {
      "cell_type": "code",
      "source": [
        "Avgage=df['Age'].mean()\n",
        "print('Employee average age is %d' %Avgage)"
      ],
      "metadata": {
        "colab": {
          "base_uri": "https://localhost:8080/"
        },
        "id": "y9t0XxK0EO6a",
        "outputId": "2f22b24c-2cbe-41ec-efb8-87c125e67ea4"
      },
      "execution_count": 15,
      "outputs": [
        {
          "output_type": "stream",
          "name": "stdout",
          "text": [
            "Employee average age is 44\n"
          ]
        }
      ]
    },
    {
      "cell_type": "code",
      "source": [
        "top_purchased_items=df['Item Purchased'].value_counts().head(10)\n",
        "print('Top 10 purchased items are:')\n",
        "print(top_purchased_items)"
      ],
      "metadata": {
        "colab": {
          "base_uri": "https://localhost:8080/"
        },
        "id": "Z-Lo0jupFDv8",
        "outputId": "c6f6aa9e-002d-4433-a44d-f113ebf82b03"
      },
      "execution_count": 33,
      "outputs": [
        {
          "output_type": "stream",
          "name": "stdout",
          "text": [
            "Top 10 purchased items are:\n",
            "Item Purchased\n",
            "Blouse        171\n",
            "Pants         171\n",
            "Jewelry       171\n",
            "Shirt         169\n",
            "Dress         166\n",
            "Sweater       164\n",
            "Jacket        163\n",
            "Coat          161\n",
            "Sunglasses    161\n",
            "Belt          161\n",
            "Name: count, dtype: int64\n"
          ]
        }
      ]
    },
    {
      "cell_type": "code",
      "source": [
        "most_purchased_category=df['Category'].value_counts().head(4)\n",
        "print('Top 4 purchased category are:')\n",
        "print(most_purchased_category)\n",
        "\n"
      ],
      "metadata": {
        "colab": {
          "base_uri": "https://localhost:8080/"
        },
        "id": "vccJweSRHV_k",
        "outputId": "2a382029-80c9-4df7-d5d4-931aa35a4161"
      },
      "execution_count": 22,
      "outputs": [
        {
          "output_type": "stream",
          "name": "stdout",
          "text": [
            "Top 4 purchased category are:\n",
            "Category\n",
            "Clothing       1737\n",
            "Accessories    1240\n",
            "Footwear        599\n",
            "Outerwear       324\n",
            "Name: count, dtype: int64\n"
          ]
        }
      ]
    },
    {
      "cell_type": "code",
      "source": [
        "Payment=df['Payment Method'].unique()\n",
        "print(Payment)"
      ],
      "metadata": {
        "colab": {
          "base_uri": "https://localhost:8080/"
        },
        "id": "fvxcpkfhKKSo",
        "outputId": "390287a9-1b59-4ebd-f2f9-88845813cb62"
      },
      "execution_count": 30,
      "outputs": [
        {
          "output_type": "stream",
          "name": "stdout",
          "text": [
            "['Venmo' 'Cash' 'Credit Card' 'PayPal' 'Bank Transfer' 'Debit Card']\n"
          ]
        }
      ]
    },
    {
      "cell_type": "code",
      "source": [
        "top_discounts=df[['Item Purchased','Location','Gender','Discount Applied']].sort_values('Discount Applied',ascending=False).head(10)\n",
        "print('Top 10 discounts are:')\n",
        "print(top_discounts)"
      ],
      "metadata": {
        "colab": {
          "base_uri": "https://localhost:8080/"
        },
        "id": "9ru9gHeeLYEA",
        "outputId": "883de75d-f613-4821-ca2f-e021b8114137"
      },
      "execution_count": 40,
      "outputs": [
        {
          "output_type": "stream",
          "name": "stdout",
          "text": [
            "Top 10 discounts are:\n",
            "     Item Purchased        Location Gender Discount Applied\n",
            "0            Blouse        Kentucky   Male              Yes\n",
            "1153          Shirt           Idaho   Male              Yes\n",
            "1125        Sandals    North Dakota   Male              Yes\n",
            "1124        Sweater            Iowa   Male              Yes\n",
            "1123            Hat   Massachusetts   Male              Yes\n",
            "1122        Handbag  North Carolina   Male              Yes\n",
            "1121        T-shirt         Florida   Male              Yes\n",
            "1120       Sneakers    Pennsylvania   Male              Yes\n",
            "1119        Jewelry       Louisiana   Male              Yes\n",
            "1118           Belt         Indiana   Male              Yes\n"
          ]
        }
      ]
    },
    {
      "cell_type": "code",
      "source": [
        "ship=df['Shipping Type'].value_counts()\n",
        "print(ship)"
      ],
      "metadata": {
        "colab": {
          "base_uri": "https://localhost:8080/"
        },
        "id": "LCdr2lqpPE_J",
        "outputId": "ff0b4a52-5443-42fe-9189-e139f847c278"
      },
      "execution_count": 42,
      "outputs": [
        {
          "output_type": "stream",
          "name": "stdout",
          "text": [
            "Shipping Type\n",
            "Free Shipping     675\n",
            "Standard          654\n",
            "Store Pickup      650\n",
            "Next Day Air      648\n",
            "Express           646\n",
            "2-Day Shipping    627\n",
            "Name: count, dtype: int64\n"
          ]
        }
      ]
    },
    {
      "cell_type": "code",
      "source": [
        "gen=df['Gender'].value_counts()\n",
        "print(gen)"
      ],
      "metadata": {
        "colab": {
          "base_uri": "https://localhost:8080/"
        },
        "id": "iDTrmEbcPyt8",
        "outputId": "c4e4d1df-812b-4078-b957-d1fbe2cc62b2"
      },
      "execution_count": 44,
      "outputs": [
        {
          "output_type": "stream",
          "name": "stdout",
          "text": [
            "Gender\n",
            "Male      2652\n",
            "Female    1248\n",
            "Name: count, dtype: int64\n"
          ]
        }
      ]
    },
    {
      "cell_type": "code",
      "source": [
        "purchase=df[['Item Purchased','Purchase Amount (USD)','Previous Purchases']].sort_values(by='Purchase Amount (USD)',ascending=False).head(10)\n",
        "print(purchase)"
      ],
      "metadata": {
        "colab": {
          "base_uri": "https://localhost:8080/"
        },
        "id": "VDdyrCaSQU38",
        "outputId": "6808ac8c-9997-4f4c-b371-9f6bef5d6386"
      },
      "execution_count": 52,
      "outputs": [
        {
          "output_type": "stream",
          "name": "stdout",
          "text": [
            "     Item Purchased  Purchase Amount (USD)  Previous Purchases\n",
            "1479           Coat                    100                   2\n",
            "1456           Coat                    100                  30\n",
            "1591          Skirt                    100                  24\n",
            "2071         Jacket                    100                  37\n",
            "1421          Dress                    100                  24\n",
            "1412         Shorts                    100                  43\n",
            "1405          Socks                    100                  39\n",
            "1847        Sandals                    100                  49\n",
            "769           Socks                    100                   8\n",
            "2842           Coat                    100                  48\n"
          ]
        }
      ]
    },
    {
      "cell_type": "code",
      "source": [
        "purchase=df[['Item Purchased','Review Rating','Frequency of Purchases','Gender']].sort_values(by='Review Rating',ascending=False).head(15)\n",
        "print(purchase)"
      ],
      "metadata": {
        "colab": {
          "base_uri": "https://localhost:8080/"
        },
        "id": "Nd0rmXwFR16P",
        "outputId": "9e3b59a3-530d-4b49-d9d9-3bf3ee9d2d5f"
      },
      "execution_count": 50,
      "outputs": [
        {
          "output_type": "stream",
          "name": "stdout",
          "text": [
            "     Item Purchased  Review Rating Frequency of Purchases  Gender\n",
            "2393          Socks            5.0         Every 3 Months    Male\n",
            "2405          Jeans            5.0              Quarterly    Male\n",
            "600             Hat            5.0                Monthly    Male\n",
            "3467          Scarf            5.0               Annually  Female\n",
            "507          Shorts            5.0            Fortnightly    Male\n",
            "3572         Shorts            5.0                Monthly  Female\n",
            "2319        Sandals            5.0                Monthly    Male\n",
            "2309          Dress            5.0              Quarterly    Male\n",
            "660            Coat            5.0              Quarterly    Male\n",
            "2294     Sunglasses            5.0               Annually    Male\n",
            "2469        Sandals            5.0               Annually    Male\n",
            "3443          Dress            5.0              Bi-Weekly  Female\n",
            "776           Shirt            5.0         Every 3 Months    Male\n",
            "3446          Boots            5.0                 Weekly  Female\n",
            "2291           Coat            5.0              Quarterly    Male\n"
          ]
        }
      ]
    },
    {
      "cell_type": "code",
      "source": [
        "sea=df['Season'].value_counts()\n",
        "print(sea)"
      ],
      "metadata": {
        "colab": {
          "base_uri": "https://localhost:8080/"
        },
        "id": "1ZXVlJl_R1yh",
        "outputId": "97d0594d-9348-42b8-abc9-e406a2113e7e"
      },
      "execution_count": 56,
      "outputs": [
        {
          "output_type": "stream",
          "name": "stdout",
          "text": [
            "Season\n",
            "Spring    999\n",
            "Fall      975\n",
            "Winter    971\n",
            "Summer    955\n",
            "Name: count, dtype: int64\n"
          ]
        }
      ]
    },
    {
      "cell_type": "code",
      "source": [
        "sub=df['Subscription Status'].value_counts()\n",
        "print(sub)"
      ],
      "metadata": {
        "colab": {
          "base_uri": "https://localhost:8080/"
        },
        "id": "Ch7YtbRIbsJn",
        "outputId": "f91f505f-12be-47b6-c2c9-53fca10211b3"
      },
      "execution_count": 58,
      "outputs": [
        {
          "output_type": "stream",
          "name": "stdout",
          "text": [
            "Subscription Status\n",
            "No     2847\n",
            "Yes    1053\n",
            "Name: count, dtype: int64\n"
          ]
        }
      ]
    },
    {
      "cell_type": "code",
      "source": [
        "col=df['Color'].value_counts()\n",
        "print(col)"
      ],
      "metadata": {
        "colab": {
          "base_uri": "https://localhost:8080/"
        },
        "id": "Qt_QYzuCcCPH",
        "outputId": "9714be73-619d-4a7c-f88e-1d12a863a6cc"
      },
      "execution_count": 59,
      "outputs": [
        {
          "output_type": "stream",
          "name": "stdout",
          "text": [
            "Color\n",
            "Olive        177\n",
            "Yellow       174\n",
            "Silver       173\n",
            "Teal         172\n",
            "Green        169\n",
            "Black        167\n",
            "Cyan         166\n",
            "Violet       166\n",
            "Gray         159\n",
            "Maroon       158\n",
            "Orange       154\n",
            "Charcoal     153\n",
            "Pink         153\n",
            "Blue         152\n",
            "Magenta      152\n",
            "Purple       151\n",
            "Peach        149\n",
            "Red          148\n",
            "Beige        147\n",
            "Indigo       147\n",
            "Lavender     147\n",
            "Turquoise    145\n",
            "White        142\n",
            "Brown        141\n",
            "Gold         138\n",
            "Name: count, dtype: int64\n"
          ]
        }
      ]
    }
  ]
}