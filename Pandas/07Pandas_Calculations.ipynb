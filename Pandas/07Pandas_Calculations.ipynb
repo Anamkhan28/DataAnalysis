{
  "nbformat": 4,
  "nbformat_minor": 0,
  "metadata": {
    "colab": {
      "provenance": []
    },
    "kernelspec": {
      "name": "python3",
      "display_name": "Python 3"
    },
    "language_info": {
      "name": "python"
    }
  },
  "cells": [
    {
      "cell_type": "code",
      "execution_count": 1,
      "metadata": {
        "id": "A55kKzTrlOOq"
      },
      "outputs": [],
      "source": [
        "import pandas"
      ]
    },
    {
      "cell_type": "code",
      "source": [
        "data={\n",
        "    'A':[10,15,20,25,30],\n",
        "    'B':[5,15,25,35,45],\n",
        "    'c':[6,12,18,24,30]\n",
        "}\n",
        "df=pandas.DataFrame(data)\n",
        "print(df)\n",
        ""
      ],
      "metadata": {
        "colab": {
          "base_uri": "https://localhost:8080/"
        },
        "id": "6pCvNkGclXXr",
        "outputId": "c83061e8-fa91-466f-d91d-0dfcec57457b"
      },
      "execution_count": 3,
      "outputs": [
        {
          "output_type": "stream",
          "name": "stdout",
          "text": [
            "    A   B   c\n",
            "0  10   5   6\n",
            "1  15  15  12\n",
            "2  20  25  18\n",
            "3  25  35  24\n",
            "4  30  45  30\n"
          ]
        }
      ]
    },
    {
      "cell_type": "code",
      "source": [
        "print(df+2)"
      ],
      "metadata": {
        "colab": {
          "base_uri": "https://localhost:8080/"
        },
        "id": "PZjWY-B_l7g2",
        "outputId": "2753cb81-da50-41d8-e4f0-1707b4e88f39"
      },
      "execution_count": 4,
      "outputs": [
        {
          "output_type": "stream",
          "name": "stdout",
          "text": [
            "    A   B   c\n",
            "0  12   7   8\n",
            "1  17  17  14\n",
            "2  22  27  20\n",
            "3  27  37  26\n",
            "4  32  47  32\n"
          ]
        }
      ]
    },
    {
      "cell_type": "code",
      "source": [
        "print(df)"
      ],
      "metadata": {
        "colab": {
          "base_uri": "https://localhost:8080/"
        },
        "id": "2s1uPZebmX2k",
        "outputId": "7712670b-fb6c-414c-ad50-2d57fc018a57"
      },
      "execution_count": 6,
      "outputs": [
        {
          "output_type": "stream",
          "name": "stdout",
          "text": [
            "    A   B   c\n",
            "0  10   5   6\n",
            "1  15  15  12\n",
            "2  20  25  18\n",
            "3  25  35  24\n",
            "4  30  45  30\n"
          ]
        }
      ]
    },
    {
      "cell_type": "code",
      "source": [
        "print(df['A']-df['B']+df['c'])"
      ],
      "metadata": {
        "colab": {
          "base_uri": "https://localhost:8080/"
        },
        "id": "p1njC0iLmIV6",
        "outputId": "6c963ae6-c857-4fa2-ad35-638d9f645a06"
      },
      "execution_count": 7,
      "outputs": [
        {
          "output_type": "stream",
          "name": "stdout",
          "text": [
            "0    11\n",
            "1    12\n",
            "2    13\n",
            "3    14\n",
            "4    15\n",
            "dtype: int64\n"
          ]
        }
      ]
    },
    {
      "cell_type": "code",
      "source": [
        "print(df['B']**2)"
      ],
      "metadata": {
        "colab": {
          "base_uri": "https://localhost:8080/"
        },
        "id": "0conIqBAmp7D",
        "outputId": "8eda2734-593c-454a-9ea0-4f65ade3e913"
      },
      "execution_count": 8,
      "outputs": [
        {
          "output_type": "stream",
          "name": "stdout",
          "text": [
            "0      25\n",
            "1     225\n",
            "2     625\n",
            "3    1225\n",
            "4    2025\n",
            "Name: B, dtype: int64\n"
          ]
        }
      ]
    },
    {
      "cell_type": "code",
      "source": [
        "print(df.min())"
      ],
      "metadata": {
        "colab": {
          "base_uri": "https://localhost:8080/"
        },
        "id": "uXlqP8S1nnTF",
        "outputId": "cd63b704-dc95-409e-e27e-0fd3bcb73429"
      },
      "execution_count": 24,
      "outputs": [
        {
          "output_type": "stream",
          "name": "stdout",
          "text": [
            "A    10\n",
            "B     5\n",
            "c     6\n",
            "dtype: int64\n"
          ]
        }
      ]
    },
    {
      "cell_type": "code",
      "source": [
        "print(df.max())"
      ],
      "metadata": {
        "colab": {
          "base_uri": "https://localhost:8080/"
        },
        "id": "kwPggE7TntG5",
        "outputId": "bbd41a2d-4017-4aba-d157-6915ea23a6dd"
      },
      "execution_count": 25,
      "outputs": [
        {
          "output_type": "stream",
          "name": "stdout",
          "text": [
            "A    30\n",
            "B    45\n",
            "c    30\n",
            "dtype: int64\n"
          ]
        }
      ]
    },
    {
      "cell_type": "code",
      "source": [
        "print(df['A']//2)"
      ],
      "metadata": {
        "colab": {
          "base_uri": "https://localhost:8080/"
        },
        "id": "8by_eFjZm1RT",
        "outputId": "235b7691-ab4c-4de3-c798-89a7b1be4525"
      },
      "execution_count": 10,
      "outputs": [
        {
          "output_type": "stream",
          "name": "stdout",
          "text": [
            "0     5\n",
            "1     7\n",
            "2    10\n",
            "3    12\n",
            "4    15\n",
            "Name: A, dtype: int64\n"
          ]
        }
      ]
    },
    {
      "cell_type": "code",
      "source": [
        "print(df['A']//df['B'])"
      ],
      "metadata": {
        "colab": {
          "base_uri": "https://localhost:8080/"
        },
        "id": "Lgrzfs4Pm98T",
        "outputId": "0de0ab41-3fe3-46a7-eb90-5e4b52309d3e"
      },
      "execution_count": 11,
      "outputs": [
        {
          "output_type": "stream",
          "name": "stdout",
          "text": [
            "0    2\n",
            "1    1\n",
            "2    0\n",
            "3    0\n",
            "4    0\n",
            "dtype: int64\n"
          ]
        }
      ]
    },
    {
      "cell_type": "code",
      "source": [
        "print(df.mean())"
      ],
      "metadata": {
        "colab": {
          "base_uri": "https://localhost:8080/"
        },
        "id": "K65QUH3QnQfG",
        "outputId": "887d07a3-d003-45bf-aa11-c9d16faf81af"
      },
      "execution_count": 12,
      "outputs": [
        {
          "output_type": "stream",
          "name": "stdout",
          "text": [
            "A    20.0\n",
            "B    25.0\n",
            "c    18.0\n",
            "dtype: float64\n"
          ]
        }
      ]
    },
    {
      "cell_type": "code",
      "source": [
        "print(df.median())"
      ],
      "metadata": {
        "colab": {
          "base_uri": "https://localhost:8080/"
        },
        "id": "LlQxe1RNnZ41",
        "outputId": "983983b4-aa4b-428f-9c06-02bb5b3272da"
      },
      "execution_count": 13,
      "outputs": [
        {
          "output_type": "stream",
          "name": "stdout",
          "text": [
            "A    20.0\n",
            "B    25.0\n",
            "c    18.0\n",
            "dtype: float64\n"
          ]
        }
      ]
    },
    {
      "cell_type": "code",
      "source": [
        "print(df.sum())"
      ],
      "metadata": {
        "colab": {
          "base_uri": "https://localhost:8080/"
        },
        "id": "RFpXceVNncsH",
        "outputId": "f8ce0dd6-a8ef-4a84-f904-1606d5b6eae0"
      },
      "execution_count": 14,
      "outputs": [
        {
          "output_type": "stream",
          "name": "stdout",
          "text": [
            "A    100\n",
            "B    125\n",
            "c     90\n",
            "dtype: int64\n"
          ]
        }
      ]
    },
    {
      "cell_type": "code",
      "source": [
        "print(df.std())"
      ],
      "metadata": {
        "colab": {
          "base_uri": "https://localhost:8080/"
        },
        "id": "IVq9VaH3nwqZ",
        "outputId": "aeed471a-3553-4040-b8b7-e87fe823c0ce"
      },
      "execution_count": 17,
      "outputs": [
        {
          "output_type": "stream",
          "name": "stdout",
          "text": [
            "A     7.905694\n",
            "B    15.811388\n",
            "c     9.486833\n",
            "dtype: float64\n"
          ]
        }
      ]
    },
    {
      "cell_type": "code",
      "source": [
        "print(df)\n",
        "print(df.sum())\n",
        "print(df.sum(axis=1))"
      ],
      "metadata": {
        "colab": {
          "base_uri": "https://localhost:8080/"
        },
        "id": "f8gIhNRfoicV",
        "outputId": "0854e4c0-5dde-49c1-a88f-5028c2323ff2"
      },
      "execution_count": 26,
      "outputs": [
        {
          "output_type": "stream",
          "name": "stdout",
          "text": [
            "    A   B   c\n",
            "0  10   5   6\n",
            "1  15  15  12\n",
            "2  20  25  18\n",
            "3  25  35  24\n",
            "4  30  45  30\n",
            "A    100\n",
            "B    125\n",
            "c     90\n",
            "dtype: int64\n",
            "0     21\n",
            "1     42\n",
            "2     63\n",
            "3     84\n",
            "4    105\n",
            "dtype: int64\n"
          ]
        }
      ]
    },
    {
      "cell_type": "code",
      "source": [
        "print(df.count())\n",
        "print(df.cumsum())"
      ],
      "metadata": {
        "colab": {
          "base_uri": "https://localhost:8080/"
        },
        "id": "2JOOEKx7n2ZZ",
        "outputId": "55611fad-cf14-4392-dfd4-936616362e4f"
      },
      "execution_count": 20,
      "outputs": [
        {
          "output_type": "stream",
          "name": "stdout",
          "text": [
            "A    5\n",
            "B    5\n",
            "c    5\n",
            "dtype: int64\n",
            "     A    B   c\n",
            "0   10    5   6\n",
            "1   25   20  18\n",
            "2   45   45  36\n",
            "3   70   80  60\n",
            "4  100  125  90\n"
          ]
        }
      ]
    },
    {
      "cell_type": "code",
      "source": [
        "print(df.cumsum())"
      ],
      "metadata": {
        "colab": {
          "base_uri": "https://localhost:8080/"
        },
        "id": "UzzA2LdWn8dg",
        "outputId": "e49ac98a-6f4e-4fa0-bdca-ad5fafdf1f19"
      },
      "execution_count": 19,
      "outputs": [
        {
          "output_type": "stream",
          "name": "stdout",
          "text": [
            "     A    B   c\n",
            "0   10    5   6\n",
            "1   25   20  18\n",
            "2   45   45  36\n",
            "3   70   80  60\n",
            "4  100  125  90\n"
          ]
        }
      ]
    }
  ]
}