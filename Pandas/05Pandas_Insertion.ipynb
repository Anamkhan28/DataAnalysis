{
  "nbformat": 4,
  "nbformat_minor": 0,
  "metadata": {
    "colab": {
      "provenance": []
    },
    "kernelspec": {
      "name": "python3",
      "display_name": "Python 3"
    },
    "language_info": {
      "name": "python"
    }
  },
  "cells": [
    {
      "cell_type": "code",
      "execution_count": null,
      "metadata": {
        "id": "AbbdNNIKSFoa"
      },
      "outputs": [],
      "source": [
        "import pandas"
      ]
    },
    {
      "cell_type": "code",
      "source": [
        "df=pandas.DataFrame(columns=['Name','Email','City','Age'])\n",
        "print(df)\n",
        ""
      ],
      "metadata": {
        "id": "b3bmFevRSxmE",
        "colab": {
          "base_uri": "https://localhost:8080/"
        },
        "outputId": "a3943738-11b6-4a78-ce7c-c3c22ff63a42"
      },
      "execution_count": 3,
      "outputs": [
        {
          "output_type": "stream",
          "name": "stdout",
          "text": [
            "Empty DataFrame\n",
            "Columns: [Name, Email, City, Age]\n",
            "Index: []\n"
          ]
        }
      ]
    },
    {
      "cell_type": "code",
      "source": [
        "df.loc[0]=['Anam Khan','anam123@gmail.com','Pune',22]\n",
        "print(df)"
      ],
      "metadata": {
        "colab": {
          "base_uri": "https://localhost:8080/"
        },
        "id": "vJYxNl7LTXs3",
        "outputId": "e8916d7f-722f-4101-cb9c-38104284c42a"
      },
      "execution_count": 9,
      "outputs": [
        {
          "output_type": "stream",
          "name": "stdout",
          "text": [
            "              Name                 Email    City  Age\n",
            "0        Anam Khan     anam123@gmail.com    Pune   22\n",
            "1  Akanksha Dhavak  akanksha11@gmail.com  Mumbai   23\n",
            "2       Apurva Deo    apurva22@gmail.com   Delhi   25\n"
          ]
        }
      ]
    },
    {
      "cell_type": "code",
      "source": [
        "df.loc[1]=['Akanksha Dhavak','akanksha11@gmail.com','Mumbai',23]\n",
        "print(df)"
      ],
      "metadata": {
        "colab": {
          "base_uri": "https://localhost:8080/"
        },
        "id": "VZjesEtVUWIU",
        "outputId": "ff70db17-b9cc-45b7-94f4-2aeb3f40ba98"
      },
      "execution_count": 10,
      "outputs": [
        {
          "output_type": "stream",
          "name": "stdout",
          "text": [
            "              Name                 Email    City  Age\n",
            "0        Anam Khan     anam123@gmail.com    Pune   22\n",
            "1  Akanksha Dhavak  akanksha11@gmail.com  Mumbai   23\n",
            "2       Apurva Deo    apurva22@gmail.com   Delhi   25\n"
          ]
        }
      ]
    },
    {
      "cell_type": "code",
      "source": [
        "df.loc[2]=['Apurva Deo','apurva22@gmail.com','Delhi',25]\n",
        "print(df)"
      ],
      "metadata": {
        "colab": {
          "base_uri": "https://localhost:8080/"
        },
        "id": "-XbOBWPMU3hj",
        "outputId": "c81a3fac-8113-4429-fe63-15e532c85faa"
      },
      "execution_count": 11,
      "outputs": [
        {
          "output_type": "stream",
          "name": "stdout",
          "text": [
            "              Name                 Email    City  Age\n",
            "0        Anam Khan     anam123@gmail.com    Pune   22\n",
            "1  Akanksha Dhavak  akanksha11@gmail.com  Mumbai   23\n",
            "2       Apurva Deo    apurva22@gmail.com   Delhi   25\n"
          ]
        }
      ]
    },
    {
      "cell_type": "code",
      "source": [
        "df.loc[3]=['Neha Patil','neha2002@gmail.com','Chennai',27]\n",
        "print(df)"
      ],
      "metadata": {
        "colab": {
          "base_uri": "https://localhost:8080/"
        },
        "id": "SNC_I3ZuVX8i",
        "outputId": "ae3f887c-89dc-4f54-b7a0-8def35cf1cab"
      },
      "execution_count": 12,
      "outputs": [
        {
          "output_type": "stream",
          "name": "stdout",
          "text": [
            "              Name                 Email     City  Age\n",
            "0        Anam Khan     anam123@gmail.com     Pune   22\n",
            "1  Akanksha Dhavak  akanksha11@gmail.com   Mumbai   23\n",
            "2       Apurva Deo    apurva22@gmail.com    Delhi   25\n",
            "3       Neha Patil    neha2002@gmail.com  Chennai   27\n"
          ]
        }
      ]
    },
    {
      "cell_type": "code",
      "source": [
        "df.loc[4,['Name','City']]=['Ayan Khan','Bangalore']\n",
        "print(df)"
      ],
      "metadata": {
        "colab": {
          "base_uri": "https://localhost:8080/"
        },
        "id": "R7wr97wCZ1aE",
        "outputId": "3ec33296-47ff-494c-f905-0b73f9e02c67"
      },
      "execution_count": 16,
      "outputs": [
        {
          "output_type": "stream",
          "name": "stdout",
          "text": [
            "              Name                 Email       City   Age\n",
            "0        Anam Khan     anam123@gmail.com       Pune  22.0\n",
            "1  Akanksha Dhavak  akanksha11@gmail.com     Mumbai  23.0\n",
            "2       Apurva Deo    apurva22@gmail.com      Delhi  25.0\n",
            "3       Neha Patil    neha2002@gmail.com    Chennai  27.0\n",
            "4        Ayan Khan                   NaN  Bangalore   NaN\n"
          ]
        }
      ]
    },
    {
      "cell_type": "code",
      "source": [
        "df.loc[4,'Age']=29\n",
        "print(df)\n",
        ""
      ],
      "metadata": {
        "colab": {
          "base_uri": "https://localhost:8080/"
        },
        "id": "myxhWiCoa2-j",
        "outputId": "e4674153-7189-4128-8f9d-a7cb5bc9ae2f"
      },
      "execution_count": 18,
      "outputs": [
        {
          "output_type": "stream",
          "name": "stdout",
          "text": [
            "              Name                 Email       City   Age\n",
            "0        Anam Khan     anam123@gmail.com       Pune  22.0\n",
            "1  Akanksha Dhavak  akanksha11@gmail.com     Mumbai  23.0\n",
            "2       Apurva Deo    apurva22@gmail.com      Delhi  25.0\n",
            "3       Neha Patil    neha2002@gmail.com    Chennai  27.0\n",
            "4        Ayan Khan                   NaN  Bangalore  29.0\n"
          ]
        }
      ]
    },
    {
      "cell_type": "code",
      "source": [
        "df['Age'] = df['Age'].astype(int)\n",
        "print(df)"
      ],
      "metadata": {
        "colab": {
          "base_uri": "https://localhost:8080/"
        },
        "id": "DVSbIY1ocAi8",
        "outputId": "63d23476-cfc3-49ec-c46f-a839f4d422f4"
      },
      "execution_count": 20,
      "outputs": [
        {
          "output_type": "stream",
          "name": "stdout",
          "text": [
            "              Name                 Email       City  Age\n",
            "0        Anam Khan     anam123@gmail.com       Pune   22\n",
            "1  Akanksha Dhavak  akanksha11@gmail.com     Mumbai   23\n",
            "2       Apurva Deo    apurva22@gmail.com      Delhi   25\n",
            "3       Neha Patil    neha2002@gmail.com    Chennai   27\n",
            "4        Ayan Khan                   NaN  Bangalore   29\n"
          ]
        }
      ]
    },
    {
      "cell_type": "code",
      "source": [
        "dic={\n",
        "    'Product_id':[101,102,103,104,105],\n",
        "    'Product_name':['Laptop','Computer','Mouse','Keyboard','Power Bank'],\n",
        "    'Price':[55000,66000,200,350,900],\n",
        "    'Stock':[25,35,100,150,250]\n",
        "}\n",
        "df=pandas.DataFrame(dic)\n",
        "print(df)"
      ],
      "metadata": {
        "colab": {
          "base_uri": "https://localhost:8080/"
        },
        "id": "iAQ3ZWnZchrY",
        "outputId": "927a064d-9fa7-4a9f-a171-3f3b8c65161d"
      },
      "execution_count": 22,
      "outputs": [
        {
          "output_type": "stream",
          "name": "stdout",
          "text": [
            "   Product_id Product_name  Price  Stock\n",
            "0         101       Laptop  55000     25\n",
            "1         102     Computer  66000     35\n",
            "2         103        Mouse    200    100\n",
            "3         104     Keyboard    350    150\n",
            "4         105   Power Bank    900    250\n"
          ]
        }
      ]
    },
    {
      "cell_type": "code",
      "source": [
        "lst=['Asus','Samsung','Dell','HP','Oneplus']\n",
        "#df.insert(4,'Brand',lst)\n",
        "print(lst)"
      ],
      "metadata": {
        "colab": {
          "base_uri": "https://localhost:8080/"
        },
        "id": "3hnTY6qeeDEZ",
        "outputId": "4c848e32-6ddf-4856-ce93-e0ec6c51e937"
      },
      "execution_count": 29,
      "outputs": [
        {
          "output_type": "stream",
          "name": "stdout",
          "text": [
            "['Asus', 'Samsung', 'Dell', 'HP', 'Oneplus']\n"
          ]
        }
      ]
    },
    {
      "cell_type": "code",
      "source": [
        "print(df)"
      ],
      "metadata": {
        "id": "fNwK1cp4he8-",
        "outputId": "4f9c4ed7-2297-46ca-dbd7-1ea7363f0b5e",
        "colab": {
          "base_uri": "https://localhost:8080/"
        }
      },
      "execution_count": 30,
      "outputs": [
        {
          "output_type": "stream",
          "name": "stdout",
          "text": [
            "   Product_id Product_name  Price  Stock    Brand\n",
            "0         101       Laptop  55000     25     Asus\n",
            "1         102     Computer  66000     35  Samsung\n",
            "2         103        Mouse    200    100     Dell\n",
            "3         104     Keyboard    350    150       HP\n",
            "4         105   Power Bank    900    250  Oneplus\n"
          ]
        }
      ]
    }
  ]
}