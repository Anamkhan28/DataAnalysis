{
  "nbformat": 4,
  "nbformat_minor": 0,
  "metadata": {
    "colab": {
      "provenance": []
    },
    "kernelspec": {
      "name": "python3",
      "display_name": "Python 3"
    },
    "language_info": {
      "name": "python"
    }
  },
  "cells": [
    {
      "cell_type": "code",
      "execution_count": 1,
      "metadata": {
        "id": "VUs3dzieAjmB"
      },
      "outputs": [],
      "source": [
        "import numpy\n",
        "import pandas"
      ]
    },
    {
      "cell_type": "code",
      "source": [
        "lst=['Maintenance','Muscles Gain',19.8,'Weight Loss','Female',41,'North','Male',]"
      ],
      "metadata": {
        "id": "5M7cIikDCXoi"
      },
      "execution_count": 8,
      "outputs": []
    },
    {
      "cell_type": "code",
      "source": [
        "arr=numpy.array(lst)\n",
        "print(arr)"
      ],
      "metadata": {
        "colab": {
          "base_uri": "https://localhost:8080/"
        },
        "id": "i3X3gESdF0Wt",
        "outputId": "a20ad981-8c39-4143-fb34-9508248f3279"
      },
      "execution_count": 9,
      "outputs": [
        {
          "output_type": "stream",
          "name": "stdout",
          "text": [
            "['Maintenance' 'Muscles Gain' '19.8' 'Weight Loss' 'Female' '41' 'North'\n",
            " 'Male']\n"
          ]
        }
      ]
    },
    {
      "cell_type": "code",
      "source": [
        "ser=pandas.Series(lst)\n",
        "print(ser)"
      ],
      "metadata": {
        "colab": {
          "base_uri": "https://localhost:8080/"
        },
        "id": "MEL4UdCqF60w",
        "outputId": "2d4ed5cf-5fc4-4f44-883f-314943379e89"
      },
      "execution_count": 10,
      "outputs": [
        {
          "output_type": "stream",
          "name": "stdout",
          "text": [
            "0     Maintenance\n",
            "1    Muscles Gain\n",
            "2            19.8\n",
            "3     Weight Loss\n",
            "4          Female\n",
            "5              41\n",
            "6           North\n",
            "7            Male\n",
            "dtype: object\n"
          ]
        }
      ]
    },
    {
      "cell_type": "code",
      "source": [
        "print(ser[2])"
      ],
      "metadata": {
        "colab": {
          "base_uri": "https://localhost:8080/"
        },
        "id": "dB6WVSZJHPwv",
        "outputId": "0a6f3b3c-5b64-4159-b6f8-20741dda8f7b"
      },
      "execution_count": 11,
      "outputs": [
        {
          "output_type": "stream",
          "name": "stdout",
          "text": [
            "19.8\n"
          ]
        }
      ]
    },
    {
      "cell_type": "code",
      "source": [
        "print(ser[6])"
      ],
      "metadata": {
        "colab": {
          "base_uri": "https://localhost:8080/"
        },
        "id": "KFPEWiwhHqW3",
        "outputId": "30a9301d-5466-4470-9060-4d7c36924a37"
      },
      "execution_count": 12,
      "outputs": [
        {
          "output_type": "stream",
          "name": "stdout",
          "text": [
            "North\n"
          ]
        }
      ]
    },
    {
      "cell_type": "code",
      "source": [
        "print(ser[1])\n",
        "print(ser[5])"
      ],
      "metadata": {
        "colab": {
          "base_uri": "https://localhost:8080/"
        },
        "id": "xBThlLLHHx8S",
        "outputId": "998d450b-6907-4f3c-c16d-4dde752b74c3"
      },
      "execution_count": 13,
      "outputs": [
        {
          "output_type": "stream",
          "name": "stdout",
          "text": [
            "Muscles Gain\n",
            "41\n"
          ]
        }
      ]
    }
  ]
}