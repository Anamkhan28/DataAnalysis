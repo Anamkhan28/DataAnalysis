{
  "nbformat": 4,
  "nbformat_minor": 0,
  "metadata": {
    "colab": {
      "provenance": []
    },
    "kernelspec": {
      "name": "python3",
      "display_name": "Python 3"
    },
    "language_info": {
      "name": "python"
    }
  },
  "cells": [
    {
      "cell_type": "code",
      "execution_count": 1,
      "metadata": {
        "id": "P2EV2-G3gXDe"
      },
      "outputs": [],
      "source": [
        "import pandas"
      ]
    },
    {
      "cell_type": "code",
      "source": [
        "url=\"http://sohamspring.azurewebsites.net/api/accounts/all\""
      ],
      "metadata": {
        "id": "6PHjMNEsiPQ-"
      },
      "execution_count": 3,
      "outputs": []
    },
    {
      "cell_type": "code",
      "source": [
        "df=pandas.read_json(url)\n",
        "print(df)"
      ],
      "metadata": {
        "colab": {
          "base_uri": "https://localhost:8080/"
        },
        "id": "WhZJaBnkiUOW",
        "outputId": "0aa74d1c-2776-4604-e5cc-fe5444236768"
      },
      "execution_count": 4,
      "outputs": [
        {
          "output_type": "stream",
          "name": "stdout",
          "text": [
            "    accno                    accnm  acctype  balance\n",
            "0    1001         sachin tendulkar   saving    45000\n",
            "1    1002          maria sharapova    fixed    23100\n",
            "2    1003         mitchell johnson  current    15300\n",
            "3    1004              edan hazard   saving    41300\n",
            "4    1005       robert lewandowski   saving    21600\n",
            "5    1006            gabriel jesus    fixed    37100\n",
            "6    1008            marcos alonso   saving    33900\n",
            "7    1009               david luiz  current    28400\n",
            "8    1010              steve smith    fixed    61150\n",
            "9    1012              zaheer khan   saving    22570\n",
            "10   1013         antoine griezman    fixed    37640\n",
            "11   1014           nasser hussain   saving    53760\n",
            "12   1015               paul pogba   saving    67370\n",
            "13   1016             garry cahill  current    39550\n",
            "14   1017         thibaut courtois    fixed    97550\n",
            "15   1018        cesar azpilicueta  current    82716\n",
            "16   1019            cesc fabregas  current    82716\n",
            "17   1020              ngolo kante    fixed    55871\n",
            "18   1021           james anderson  current    63228\n",
            "19   1022               ollie pope   saving    75961\n",
            "20   1023                 moin ali  current    26551\n",
            "21   1024               sam curran      ppf    63558\n",
            "22   1025      andreas christensen   saving    68523\n",
            "23   1026            alvaro morata   saving    96995\n",
            "24   1027         liam livingstone  current    49668\n",
            "25   1028                mark wood    fixed    75442\n",
            "26   1029            mohamed salah   saving    83229\n",
            "27   1030               sadio mane      ppf    45889\n",
            "28   1031          roberto firmino    fixed    96321\n",
            "29   1032  alex oxlade chamberlain  current    58449\n",
            "30   1033      alexandre lacazette   saving    36227\n",
            "31   1034          raheem sterling    fixed    62994\n",
            "32   1035               harry kane  current    78751\n",
            "33   1036                dele alli    fixed    96637\n",
            "34   1037              hugo lloris   saving    84552\n",
            "35   1038               bill gates  current    93119\n",
            "36   1039                amir khan   saving    66554\n",
            "37   1040              adil rashid      ppf    39870\n",
            "38   1041             chris jordan   saving    55400\n",
            "39   1042                jason roy   saving    29750\n",
            "40   1043             chris woakes      ppf    50000\n",
            "41   1044               alex hales   saving    38540\n",
            "42   1045              dawid malan   saving    62100\n",
            "43   1046               ben stokes   saving    57500\n",
            "44   1047                 joe root      ppf   125000\n",
            "45   1048                 isa guha   saving    72300\n",
            "46   1049             ravi shastri   saving    55040\n",
            "47   1050            harsha bhogle   saving    87980\n",
            "48   1051             irfan pathan      ppf    75000\n",
            "49   1052              patric jane      ppf    87500\n",
            "50   1053           manmohan singh    fixed   300000\n"
          ]
        }
      ]
    },
    {
      "cell_type": "code",
      "source": [
        "\n",
        "dfgroups=df.groupby('accnm')\n",
        "print(dfgroups)"
      ],
      "metadata": {
        "colab": {
          "base_uri": "https://localhost:8080/"
        },
        "id": "_ezzN7k1Mcyo",
        "outputId": "291be878-b7bd-4e5d-a941-28715ec81c70"
      },
      "execution_count": 9,
      "outputs": [
        {
          "output_type": "stream",
          "name": "stdout",
          "text": [
            "<pandas.core.groupby.generic.DataFrameGroupBy object at 0x7b122e99c0d0>\n"
          ]
        }
      ]
    },
    {
      "cell_type": "code",
      "source": [
        "for gr in dfgroups:\n",
        "  print(gr)\n",
        "  print(\"\\\\\\\\\\\\\\\\\\\\\\\\\\\\\\\\\\\\\\\\\\\\\\\\\\\\\\\\\\\\\\\\\\\\\")"
      ],
      "metadata": {
        "colab": {
          "base_uri": "https://localhost:8080/"
        },
        "id": "vp9k_UksMUX3",
        "outputId": "3afefc52-04bc-4b00-d8a7-a7664578a3b5"
      },
      "execution_count": 8,
      "outputs": [
        {
          "output_type": "stream",
          "name": "stdout",
          "text": [
            "('current',     accno                    accnm  acctype  balance\n",
            "2    1003         mitchell johnson  current    15300\n",
            "7    1009               david luiz  current    28400\n",
            "13   1016             garry cahill  current    39550\n",
            "15   1018        cesar azpilicueta  current    82716\n",
            "16   1019            cesc fabregas  current    82716\n",
            "18   1021           james anderson  current    63228\n",
            "20   1023                 moin ali  current    26551\n",
            "24   1027         liam livingstone  current    49668\n",
            "29   1032  alex oxlade chamberlain  current    58449\n",
            "32   1035               harry kane  current    78751\n",
            "35   1038               bill gates  current    93119)\n",
            "\\\\\\\\\\\\\\\\\\\\\\\\\\\\\\\\\\\n",
            "('fixed',     accno             accnm acctype  balance\n",
            "1    1002   maria sharapova   fixed    23100\n",
            "5    1006     gabriel jesus   fixed    37100\n",
            "8    1010       steve smith   fixed    61150\n",
            "10   1013  antoine griezman   fixed    37640\n",
            "14   1017  thibaut courtois   fixed    97550\n",
            "17   1020       ngolo kante   fixed    55871\n",
            "25   1028         mark wood   fixed    75442\n",
            "28   1031   roberto firmino   fixed    96321\n",
            "31   1034   raheem sterling   fixed    62994\n",
            "33   1036         dele alli   fixed    96637\n",
            "50   1053    manmohan singh   fixed   300000)\n",
            "\\\\\\\\\\\\\\\\\\\\\\\\\\\\\\\\\\\n",
            "('ppf',     accno         accnm acctype  balance\n",
            "21   1024    sam curran     ppf    63558\n",
            "27   1030    sadio mane     ppf    45889\n",
            "37   1040   adil rashid     ppf    39870\n",
            "40   1043  chris woakes     ppf    50000\n",
            "44   1047      joe root     ppf   125000\n",
            "48   1051  irfan pathan     ppf    75000\n",
            "49   1052   patric jane     ppf    87500)\n",
            "\\\\\\\\\\\\\\\\\\\\\\\\\\\\\\\\\\\n",
            "('saving',     accno                accnm acctype  balance\n",
            "0    1001     sachin tendulkar  saving    45000\n",
            "3    1004          edan hazard  saving    41300\n",
            "4    1005   robert lewandowski  saving    21600\n",
            "6    1008        marcos alonso  saving    33900\n",
            "9    1012          zaheer khan  saving    22570\n",
            "11   1014       nasser hussain  saving    53760\n",
            "12   1015           paul pogba  saving    67370\n",
            "19   1022           ollie pope  saving    75961\n",
            "22   1025  andreas christensen  saving    68523\n",
            "23   1026        alvaro morata  saving    96995\n",
            "26   1029        mohamed salah  saving    83229\n",
            "30   1033  alexandre lacazette  saving    36227\n",
            "34   1037          hugo lloris  saving    84552\n",
            "36   1039            amir khan  saving    66554\n",
            "38   1041         chris jordan  saving    55400\n",
            "39   1042            jason roy  saving    29750\n",
            "41   1044           alex hales  saving    38540\n",
            "42   1045          dawid malan  saving    62100\n",
            "43   1046           ben stokes  saving    57500\n",
            "45   1048             isa guha  saving    72300\n",
            "46   1049         ravi shastri  saving    55040\n",
            "47   1050        harsha bhogle  saving    87980)\n",
            "\\\\\\\\\\\\\\\\\\\\\\\\\\\\\\\\\\\n"
          ]
        }
      ]
    },
    {
      "cell_type": "code",
      "source": [
        "\n",
        "print(df['acctype'].value_counts())\n"
      ],
      "metadata": {
        "colab": {
          "base_uri": "https://localhost:8080/"
        },
        "id": "gEiaNqVbOcOV",
        "outputId": "db728836-a1c9-4fc0-bc44-71b3b97f6aca"
      },
      "execution_count": 11,
      "outputs": [
        {
          "output_type": "stream",
          "name": "stdout",
          "text": [
            "acctype\n",
            "saving     22\n",
            "fixed      11\n",
            "current    11\n",
            "ppf         7\n",
            "Name: count, dtype: int64\n"
          ]
        }
      ]
    },
    {
      "cell_type": "code",
      "source": [
        "print(df['balance'].value_counts().head(10))"
      ],
      "metadata": {
        "colab": {
          "base_uri": "https://localhost:8080/"
        },
        "id": "eMeVcvibOvMS",
        "outputId": "5de67456-d67c-45dd-f787-73f8fe986c38"
      },
      "execution_count": 15,
      "outputs": [
        {
          "output_type": "stream",
          "name": "stdout",
          "text": [
            "balance\n",
            "82716    2\n",
            "45000    1\n",
            "23100    1\n",
            "15300    1\n",
            "21600    1\n",
            "41300    1\n",
            "33900    1\n",
            "28400    1\n",
            "61150    1\n",
            "37100    1\n",
            "Name: count, dtype: int64\n"
          ]
        }
      ]
    },
    {
      "cell_type": "code",
      "source": [
        "print(df['accnm'].value_counts().head(15))"
      ],
      "metadata": {
        "colab": {
          "base_uri": "https://localhost:8080/"
        },
        "id": "QtKAZYXlPSuh",
        "outputId": "ef947020-8ea7-4761-8ee9-d385e348fa44"
      },
      "execution_count": 16,
      "outputs": [
        {
          "output_type": "stream",
          "name": "stdout",
          "text": [
            "accnm\n",
            "sachin tendulkar      1\n",
            "maria sharapova       1\n",
            "mitchell johnson      1\n",
            "edan hazard           1\n",
            "robert lewandowski    1\n",
            "gabriel jesus         1\n",
            "marcos alonso         1\n",
            "david luiz            1\n",
            "steve smith           1\n",
            "zaheer khan           1\n",
            "antoine griezman      1\n",
            "nasser hussain        1\n",
            "paul pogba            1\n",
            "garry cahill          1\n",
            "thibaut courtois      1\n",
            "Name: count, dtype: int64\n"
          ]
        }
      ]
    },
    {
      "cell_type": "code",
      "source": [
        "print(df['accnm'].value_counts().tail(10))"
      ],
      "metadata": {
        "colab": {
          "base_uri": "https://localhost:8080/"
        },
        "id": "qfe8GNs3PW7Q",
        "outputId": "d0413f29-9ef2-42dd-8021-a2444d6af6c6"
      },
      "execution_count": 17,
      "outputs": [
        {
          "output_type": "stream",
          "name": "stdout",
          "text": [
            "accnm\n",
            "alex hales        1\n",
            "dawid malan       1\n",
            "ben stokes        1\n",
            "joe root          1\n",
            "isa guha          1\n",
            "ravi shastri      1\n",
            "harsha bhogle     1\n",
            "irfan pathan      1\n",
            "patric jane       1\n",
            "manmohan singh    1\n",
            "Name: count, dtype: int64\n"
          ]
        }
      ]
    },
    {
      "cell_type": "code",
      "source": [
        "names = sorted(df[['accnm','acctype']].values.tolist())\n",
        "for name in names:\n",
        "    print(name)"
      ],
      "metadata": {
        "colab": {
          "base_uri": "https://localhost:8080/"
        },
        "id": "W6PA7hqUQpVQ",
        "outputId": "c9653519-f61b-4b50-e644-1a3b3f4370be"
      },
      "execution_count": 23,
      "outputs": [
        {
          "output_type": "stream",
          "name": "stdout",
          "text": [
            "['adil rashid', 'ppf']\n",
            "['alex hales', 'saving']\n",
            "['alex oxlade chamberlain', 'current']\n",
            "['alexandre lacazette', 'saving']\n",
            "['alvaro morata', 'saving']\n",
            "['amir khan', 'saving']\n",
            "['andreas christensen', 'saving']\n",
            "['antoine griezman', 'fixed']\n",
            "['ben stokes', 'saving']\n",
            "['bill gates', 'current']\n",
            "['cesar azpilicueta', 'current']\n",
            "['cesc fabregas', 'current']\n",
            "['chris jordan', 'saving']\n",
            "['chris woakes', 'ppf']\n",
            "['david luiz', 'current']\n",
            "['dawid malan', 'saving']\n",
            "['dele alli', 'fixed']\n",
            "['edan hazard', 'saving']\n",
            "['gabriel jesus', 'fixed']\n",
            "['garry cahill', 'current']\n",
            "['harry kane', 'current']\n",
            "['harsha bhogle', 'saving']\n",
            "['hugo lloris', 'saving']\n",
            "['irfan pathan', 'ppf']\n",
            "['isa guha', 'saving']\n",
            "['james anderson', 'current']\n",
            "['jason roy', 'saving']\n",
            "['joe root', 'ppf']\n",
            "['liam livingstone', 'current']\n",
            "['manmohan singh', 'fixed']\n",
            "['marcos alonso', 'saving']\n",
            "['maria sharapova', 'fixed']\n",
            "['mark wood', 'fixed']\n",
            "['mitchell johnson', 'current']\n",
            "['mohamed salah', 'saving']\n",
            "['moin ali', 'current']\n",
            "['nasser hussain', 'saving']\n",
            "['ngolo kante', 'fixed']\n",
            "['ollie pope', 'saving']\n",
            "['patric jane', 'ppf']\n",
            "['paul pogba', 'saving']\n",
            "['raheem sterling', 'fixed']\n",
            "['ravi shastri', 'saving']\n",
            "['robert lewandowski', 'saving']\n",
            "['roberto firmino', 'fixed']\n",
            "['sachin tendulkar', 'saving']\n",
            "['sadio mane', 'ppf']\n",
            "['sam curran', 'ppf']\n",
            "['steve smith', 'fixed']\n",
            "['thibaut courtois', 'fixed']\n",
            "['zaheer khan', 'saving']\n"
          ]
        }
      ]
    }
  ]
}