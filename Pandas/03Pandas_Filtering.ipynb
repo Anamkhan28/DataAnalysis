{
  "nbformat": 4,
  "nbformat_minor": 0,
  "metadata": {
    "colab": {
      "provenance": []
    },
    "kernelspec": {
      "name": "python3",
      "display_name": "Python 3"
    },
    "language_info": {
      "name": "python"
    }
  },
  "cells": [
    {
      "cell_type": "code",
      "execution_count": 6,
      "metadata": {
        "id": "w5cEwM37VoeN"
      },
      "outputs": [],
      "source": [
        "import pandas"
      ]
    },
    {
      "cell_type": "code",
      "source": [
        "url=\"http://sohamspring.azurewebsites.net/api/accounts/all\""
      ],
      "metadata": {
        "id": "kaYD6EOXXkuR"
      },
      "execution_count": 7,
      "outputs": []
    },
    {
      "cell_type": "code",
      "source": [
        "df=pandas.read_json(url)\n",
        "print(df)"
      ],
      "metadata": {
        "colab": {
          "base_uri": "https://localhost:8080/"
        },
        "id": "lPJ9rWmVXpqW",
        "outputId": "095eb90c-61ad-488e-db88-c026e97f2b3a"
      },
      "execution_count": 8,
      "outputs": [
        {
          "output_type": "stream",
          "name": "stdout",
          "text": [
            "    accno                    accnm  acctype  balance\n",
            "0    1001         sachin tendulkar   saving    45000\n",
            "1    1002          maria sharapova    fixed    23100\n",
            "2    1003         mitchell johnson  current    15300\n",
            "3    1004              edan hazard   saving    41300\n",
            "4    1005       robert lewandowski   saving    21600\n",
            "5    1006            gabriel jesus    fixed    37100\n",
            "6    1008            marcos alonso   saving    33900\n",
            "7    1009               david luiz  current    28400\n",
            "8    1010              steve smith    fixed    61150\n",
            "9    1012              zaheer khan   saving    22570\n",
            "10   1013         antoine griezman    fixed    37640\n",
            "11   1014           nasser hussain   saving    53760\n",
            "12   1015               paul pogba   saving    67370\n",
            "13   1016             garry cahill  current    39550\n",
            "14   1017         thibaut courtois    fixed    97550\n",
            "15   1018        cesar azpilicueta  current    82716\n",
            "16   1019            cesc fabregas  current    82716\n",
            "17   1020              ngolo kante    fixed    55871\n",
            "18   1021           james anderson  current    63228\n",
            "19   1022               ollie pope   saving    75961\n",
            "20   1023                 moin ali  current    26551\n",
            "21   1024               sam curran      ppf    63558\n",
            "22   1025      andreas christensen   saving    68523\n",
            "23   1026            alvaro morata   saving    96995\n",
            "24   1027         liam livingstone  current    49668\n",
            "25   1028                mark wood    fixed    75442\n",
            "26   1029            mohamed salah   saving    83229\n",
            "27   1030               sadio mane      ppf    45889\n",
            "28   1031          roberto firmino    fixed    96321\n",
            "29   1032  alex oxlade chamberlain  current    58449\n",
            "30   1033      alexandre lacazette   saving    36227\n",
            "31   1034          raheem sterling    fixed    62994\n",
            "32   1035               harry kane  current    78751\n",
            "33   1036                dele alli    fixed    96637\n",
            "34   1037              hugo lloris   saving    84552\n",
            "35   1038               bill gates  current    93119\n",
            "36   1039                amir khan   saving    66554\n",
            "37   1040              adil rashid      ppf    39870\n",
            "38   1041             chris jordan   saving    55400\n",
            "39   1042                jason roy   saving    29750\n",
            "40   1043             chris woakes      ppf    50000\n",
            "41   1044               alex hales   saving    38540\n",
            "42   1045              dawid malan   saving    62100\n",
            "43   1046               ben stokes   saving    57500\n",
            "44   1047                 joe root      ppf   125000\n",
            "45   1048                 isa guha   saving    72300\n",
            "46   1049             ravi shastri   saving    55040\n",
            "47   1050            harsha bhogle   saving    87980\n",
            "48   1051             irfan pathan      ppf    75000\n",
            "49   1052              patric jane      ppf    87500\n",
            "50   1053           manmohan singh    fixed   300000\n"
          ]
        }
      ]
    },
    {
      "cell_type": "code",
      "source": [
        "print(df.loc[14])"
      ],
      "metadata": {
        "colab": {
          "base_uri": "https://localhost:8080/"
        },
        "id": "S_3W3FOAY1hz",
        "outputId": "61773a7d-b882-4642-d893-fbd93da1eb8d"
      },
      "execution_count": 10,
      "outputs": [
        {
          "output_type": "stream",
          "name": "stdout",
          "text": [
            "accno                  1017\n",
            "accnm      thibaut courtois\n",
            "acctype               fixed\n",
            "balance               97550\n",
            "Name: 14, dtype: object\n"
          ]
        }
      ]
    },
    {
      "cell_type": "code",
      "source": [
        "print(df[df['acctype']=='saving'])"
      ],
      "metadata": {
        "colab": {
          "base_uri": "https://localhost:8080/"
        },
        "id": "vualkhmOY9ru",
        "outputId": "afd03180-9f66-4e96-c44c-0bba66cf9dd1"
      },
      "execution_count": 11,
      "outputs": [
        {
          "output_type": "stream",
          "name": "stdout",
          "text": [
            "    accno                accnm acctype  balance\n",
            "0    1001     sachin tendulkar  saving    45000\n",
            "3    1004          edan hazard  saving    41300\n",
            "4    1005   robert lewandowski  saving    21600\n",
            "6    1008        marcos alonso  saving    33900\n",
            "9    1012          zaheer khan  saving    22570\n",
            "11   1014       nasser hussain  saving    53760\n",
            "12   1015           paul pogba  saving    67370\n",
            "19   1022           ollie pope  saving    75961\n",
            "22   1025  andreas christensen  saving    68523\n",
            "23   1026        alvaro morata  saving    96995\n",
            "26   1029        mohamed salah  saving    83229\n",
            "30   1033  alexandre lacazette  saving    36227\n",
            "34   1037          hugo lloris  saving    84552\n",
            "36   1039            amir khan  saving    66554\n",
            "38   1041         chris jordan  saving    55400\n",
            "39   1042            jason roy  saving    29750\n",
            "41   1044           alex hales  saving    38540\n",
            "42   1045          dawid malan  saving    62100\n",
            "43   1046           ben stokes  saving    57500\n",
            "45   1048             isa guha  saving    72300\n",
            "46   1049         ravi shastri  saving    55040\n",
            "47   1050        harsha bhogle  saving    87980\n"
          ]
        }
      ]
    },
    {
      "cell_type": "code",
      "source": [
        "print(df[df['acctype']=='current'])"
      ],
      "metadata": {
        "colab": {
          "base_uri": "https://localhost:8080/"
        },
        "id": "ftC0zEhfZ7IJ",
        "outputId": "e32b00ea-9594-4e5e-df6d-7b7b5b05668c"
      },
      "execution_count": 13,
      "outputs": [
        {
          "output_type": "stream",
          "name": "stdout",
          "text": [
            "    accno                    accnm  acctype  balance\n",
            "2    1003         mitchell johnson  current    15300\n",
            "7    1009               david luiz  current    28400\n",
            "13   1016             garry cahill  current    39550\n",
            "15   1018        cesar azpilicueta  current    82716\n",
            "16   1019            cesc fabregas  current    82716\n",
            "18   1021           james anderson  current    63228\n",
            "20   1023                 moin ali  current    26551\n",
            "24   1027         liam livingstone  current    49668\n",
            "29   1032  alex oxlade chamberlain  current    58449\n",
            "32   1035               harry kane  current    78751\n",
            "35   1038               bill gates  current    93119\n"
          ]
        }
      ]
    },
    {
      "cell_type": "code",
      "source": [
        "print(df[df['acctype']!='ppf'])"
      ],
      "metadata": {
        "colab": {
          "base_uri": "https://localhost:8080/"
        },
        "id": "e9l0WUvxbWkV",
        "outputId": "e6665d57-07ed-4af9-f594-9ff845598bea"
      },
      "execution_count": 15,
      "outputs": [
        {
          "output_type": "stream",
          "name": "stdout",
          "text": [
            "    accno                    accnm  acctype  balance\n",
            "0    1001         sachin tendulkar   saving    45000\n",
            "1    1002          maria sharapova    fixed    23100\n",
            "2    1003         mitchell johnson  current    15300\n",
            "3    1004              edan hazard   saving    41300\n",
            "4    1005       robert lewandowski   saving    21600\n",
            "5    1006            gabriel jesus    fixed    37100\n",
            "6    1008            marcos alonso   saving    33900\n",
            "7    1009               david luiz  current    28400\n",
            "8    1010              steve smith    fixed    61150\n",
            "9    1012              zaheer khan   saving    22570\n",
            "10   1013         antoine griezman    fixed    37640\n",
            "11   1014           nasser hussain   saving    53760\n",
            "12   1015               paul pogba   saving    67370\n",
            "13   1016             garry cahill  current    39550\n",
            "14   1017         thibaut courtois    fixed    97550\n",
            "15   1018        cesar azpilicueta  current    82716\n",
            "16   1019            cesc fabregas  current    82716\n",
            "17   1020              ngolo kante    fixed    55871\n",
            "18   1021           james anderson  current    63228\n",
            "19   1022               ollie pope   saving    75961\n",
            "20   1023                 moin ali  current    26551\n",
            "22   1025      andreas christensen   saving    68523\n",
            "23   1026            alvaro morata   saving    96995\n",
            "24   1027         liam livingstone  current    49668\n",
            "25   1028                mark wood    fixed    75442\n",
            "26   1029            mohamed salah   saving    83229\n",
            "28   1031          roberto firmino    fixed    96321\n",
            "29   1032  alex oxlade chamberlain  current    58449\n",
            "30   1033      alexandre lacazette   saving    36227\n",
            "31   1034          raheem sterling    fixed    62994\n",
            "32   1035               harry kane  current    78751\n",
            "33   1036                dele alli    fixed    96637\n",
            "34   1037              hugo lloris   saving    84552\n",
            "35   1038               bill gates  current    93119\n",
            "36   1039                amir khan   saving    66554\n",
            "38   1041             chris jordan   saving    55400\n",
            "39   1042                jason roy   saving    29750\n",
            "41   1044               alex hales   saving    38540\n",
            "42   1045              dawid malan   saving    62100\n",
            "43   1046               ben stokes   saving    57500\n",
            "45   1048                 isa guha   saving    72300\n",
            "46   1049             ravi shastri   saving    55040\n",
            "47   1050            harsha bhogle   saving    87980\n",
            "50   1053           manmohan singh    fixed   300000\n"
          ]
        }
      ]
    },
    {
      "cell_type": "code",
      "source": [
        "print(df[df['balance']<=50000])"
      ],
      "metadata": {
        "colab": {
          "base_uri": "https://localhost:8080/"
        },
        "id": "YrQI-tOIblYx",
        "outputId": "9fd73a4c-32c5-49dd-c731-a2bb262d9d25"
      },
      "execution_count": 22,
      "outputs": [
        {
          "output_type": "stream",
          "name": "stdout",
          "text": [
            "    accno                accnm  acctype  balance\n",
            "0    1001     sachin tendulkar   saving    45000\n",
            "1    1002      maria sharapova    fixed    23100\n",
            "2    1003     mitchell johnson  current    15300\n",
            "3    1004          edan hazard   saving    41300\n",
            "4    1005   robert lewandowski   saving    21600\n",
            "5    1006        gabriel jesus    fixed    37100\n",
            "6    1008        marcos alonso   saving    33900\n",
            "7    1009           david luiz  current    28400\n",
            "9    1012          zaheer khan   saving    22570\n",
            "10   1013     antoine griezman    fixed    37640\n",
            "13   1016         garry cahill  current    39550\n",
            "20   1023             moin ali  current    26551\n",
            "24   1027     liam livingstone  current    49668\n",
            "27   1030           sadio mane      ppf    45889\n",
            "30   1033  alexandre lacazette   saving    36227\n",
            "37   1040          adil rashid      ppf    39870\n",
            "39   1042            jason roy   saving    29750\n",
            "40   1043         chris woakes      ppf    50000\n",
            "41   1044           alex hales   saving    38540\n"
          ]
        }
      ]
    },
    {
      "cell_type": "code",
      "source": [
        "print(df[(df['acctype']=='ppf') & (df['balance']>75000)])"
      ],
      "metadata": {
        "colab": {
          "base_uri": "https://localhost:8080/"
        },
        "id": "aW76z6cncQnv",
        "outputId": "ad51b6a4-0784-484c-f3ef-63aca87d64f4"
      },
      "execution_count": 25,
      "outputs": [
        {
          "output_type": "stream",
          "name": "stdout",
          "text": [
            "    accno        accnm acctype  balance\n",
            "44   1047     joe root     ppf   125000\n",
            "49   1052  patric jane     ppf    87500\n"
          ]
        }
      ]
    },
    {
      "cell_type": "code",
      "source": [
        "print(df[(df['acctype']=='fixed') & (df['balance']>75000)])"
      ],
      "metadata": {
        "colab": {
          "base_uri": "https://localhost:8080/"
        },
        "id": "wDCYbbclc0oD",
        "outputId": "092e36f3-eb4c-4b87-e26c-f487bf3bdb0d"
      },
      "execution_count": 26,
      "outputs": [
        {
          "output_type": "stream",
          "name": "stdout",
          "text": [
            "    accno             accnm acctype  balance\n",
            "14   1017  thibaut courtois   fixed    97550\n",
            "25   1028         mark wood   fixed    75442\n",
            "28   1031   roberto firmino   fixed    96321\n",
            "33   1036         dele alli   fixed    96637\n",
            "50   1053    manmohan singh   fixed   300000\n"
          ]
        }
      ]
    },
    {
      "cell_type": "code",
      "source": [
        "print(df[(df['acctype']=='current') | (df['balance']<30000)])"
      ],
      "metadata": {
        "colab": {
          "base_uri": "https://localhost:8080/"
        },
        "id": "aKDhh8ckc4Ev",
        "outputId": "9b9e4540-6f3c-4ca5-d43d-6320e5bdf8ca"
      },
      "execution_count": 27,
      "outputs": [
        {
          "output_type": "stream",
          "name": "stdout",
          "text": [
            "    accno                    accnm  acctype  balance\n",
            "1    1002          maria sharapova    fixed    23100\n",
            "2    1003         mitchell johnson  current    15300\n",
            "4    1005       robert lewandowski   saving    21600\n",
            "7    1009               david luiz  current    28400\n",
            "9    1012              zaheer khan   saving    22570\n",
            "13   1016             garry cahill  current    39550\n",
            "15   1018        cesar azpilicueta  current    82716\n",
            "16   1019            cesc fabregas  current    82716\n",
            "18   1021           james anderson  current    63228\n",
            "20   1023                 moin ali  current    26551\n",
            "24   1027         liam livingstone  current    49668\n",
            "29   1032  alex oxlade chamberlain  current    58449\n",
            "32   1035               harry kane  current    78751\n",
            "35   1038               bill gates  current    93119\n",
            "39   1042                jason roy   saving    29750\n"
          ]
        }
      ]
    },
    {
      "cell_type": "code",
      "source": [
        "print(df[(df['acctype']=='current') | (df['balance']<=40000)])"
      ],
      "metadata": {
        "colab": {
          "base_uri": "https://localhost:8080/"
        },
        "id": "BA3iAa0RdYD6",
        "outputId": "606d8515-cda7-43ff-ac8f-5921c6752f61"
      },
      "execution_count": 29,
      "outputs": [
        {
          "output_type": "stream",
          "name": "stdout",
          "text": [
            "    accno                    accnm  acctype  balance\n",
            "1    1002          maria sharapova    fixed    23100\n",
            "2    1003         mitchell johnson  current    15300\n",
            "4    1005       robert lewandowski   saving    21600\n",
            "5    1006            gabriel jesus    fixed    37100\n",
            "6    1008            marcos alonso   saving    33900\n",
            "7    1009               david luiz  current    28400\n",
            "9    1012              zaheer khan   saving    22570\n",
            "10   1013         antoine griezman    fixed    37640\n",
            "13   1016             garry cahill  current    39550\n",
            "15   1018        cesar azpilicueta  current    82716\n",
            "16   1019            cesc fabregas  current    82716\n",
            "18   1021           james anderson  current    63228\n",
            "20   1023                 moin ali  current    26551\n",
            "24   1027         liam livingstone  current    49668\n",
            "29   1032  alex oxlade chamberlain  current    58449\n",
            "30   1033      alexandre lacazette   saving    36227\n",
            "32   1035               harry kane  current    78751\n",
            "35   1038               bill gates  current    93119\n",
            "37   1040              adil rashid      ppf    39870\n",
            "39   1042                jason roy   saving    29750\n",
            "41   1044               alex hales   saving    38540\n"
          ]
        }
      ]
    },
    {
      "cell_type": "code",
      "source": [
        "print(df[df['accno'].isin([1021,1044,1009,1023,1053])])"
      ],
      "metadata": {
        "colab": {
          "base_uri": "https://localhost:8080/"
        },
        "id": "RmMBMbqvd8kU",
        "outputId": "f6c17470-17a9-4980-e803-b0cba86f532e"
      },
      "execution_count": 30,
      "outputs": [
        {
          "output_type": "stream",
          "name": "stdout",
          "text": [
            "    accno           accnm  acctype  balance\n",
            "7    1009      david luiz  current    28400\n",
            "18   1021  james anderson  current    63228\n",
            "20   1023        moin ali  current    26551\n",
            "41   1044      alex hales   saving    38540\n",
            "50   1053  manmohan singh    fixed   300000\n"
          ]
        }
      ]
    }
  ]
}