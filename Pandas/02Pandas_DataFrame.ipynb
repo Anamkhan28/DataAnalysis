{
  "nbformat": 4,
  "nbformat_minor": 0,
  "metadata": {
    "colab": {
      "provenance": []
    },
    "kernelspec": {
      "name": "python3",
      "display_name": "Python 3"
    },
    "language_info": {
      "name": "python"
    }
  },
  "cells": [
    {
      "cell_type": "code",
      "execution_count": null,
      "metadata": {
        "id": "Ybjo3rA9Lx_c"
      },
      "outputs": [],
      "source": [
        "import numpy\n",
        "import pandas"
      ]
    },
    {
      "cell_type": "code",
      "source": [
        "lst=[\n",
        "    ['Female','Male','Female'],\n",
        "    [22,45,36],\n",
        "    [34,77,60],\n",
        "    ['Maintenance','Muscles Gain','Weight Loss'],\n",
        "    ['East','West','South'],\n",
        "]"
      ],
      "metadata": {
        "id": "4pWaYhNjMUpA"
      },
      "execution_count": null,
      "outputs": []
    },
    {
      "cell_type": "code",
      "source": [
        "arr=numpy.array(lst)\n",
        "print(arr)\n",
        "print(arr.shape)"
      ],
      "metadata": {
        "colab": {
          "base_uri": "https://localhost:8080/"
        },
        "id": "flwUfCIrM4tw",
        "outputId": "6260b498-ffde-407e-8528-0b5266799550"
      },
      "execution_count": null,
      "outputs": [
        {
          "output_type": "stream",
          "name": "stdout",
          "text": [
            "[['Female' 'Male' 'Female']\n",
            " ['22' '45' '36']\n",
            " ['34' '77' '60']\n",
            " ['Maintenance' 'Muscles Gain' 'Weight Loss']\n",
            " ['East' 'West' 'South']]\n",
            "(5, 3)\n"
          ]
        }
      ]
    },
    {
      "cell_type": "code",
      "source": [
        "df=pandas.DataFrame(arr)\n",
        "print(df)"
      ],
      "metadata": {
        "colab": {
          "base_uri": "https://localhost:8080/"
        },
        "id": "v8RyRhxKPMsQ",
        "outputId": "178cab59-7cc9-44cd-fbd5-a46d21ababd6"
      },
      "execution_count": null,
      "outputs": [
        {
          "output_type": "stream",
          "name": "stdout",
          "text": [
            "             0             1            2\n",
            "0       Female          Male       Female\n",
            "1           22            45           36\n",
            "2           34            77           60\n",
            "3  Maintenance  Muscles Gain  Weight Loss\n",
            "4         East          West        South\n"
          ]
        }
      ]
    },
    {
      "cell_type": "code",
      "source": [
        "rows=['Gender','Age','Weight','Fitness Goal','Region']\n",
        "df1=pandas.DataFrame(arr,rows)\n",
        "print(df1)"
      ],
      "metadata": {
        "id": "X-gHmtHQPUnR",
        "outputId": "3695bddc-130d-442f-a374-78d8754a53a9",
        "colab": {
          "base_uri": "https://localhost:8080/"
        }
      },
      "execution_count": null,
      "outputs": [
        {
          "output_type": "stream",
          "name": "stdout",
          "text": [
            "                        0             1            2\n",
            "Gender             Female          Male       Female\n",
            "Age                    22            45           36\n",
            "Weight                 34            77           60\n",
            "Fitness Goal  Maintenance  Muscles Gain  Weight Loss\n",
            "Region               East          West        South\n"
          ]
        }
      ]
    },
    {
      "cell_type": "code",
      "source": [
        "print(df1[1])"
      ],
      "metadata": {
        "colab": {
          "base_uri": "https://localhost:8080/"
        },
        "id": "juYirrO4QdCr",
        "outputId": "70974fa2-6fa9-498a-f58c-83dda3011ec7"
      },
      "execution_count": null,
      "outputs": [
        {
          "output_type": "stream",
          "name": "stdout",
          "text": [
            "Gender                  Male\n",
            "Age                       45\n",
            "Weight                    77\n",
            "Fitness Goal    Muscles Gain\n",
            "Region                  West\n",
            "Name: 1, dtype: object\n"
          ]
        }
      ]
    },
    {
      "cell_type": "code",
      "source": [],
      "metadata": {
        "id": "Eak9s5JpTwSG"
      },
      "execution_count": null,
      "outputs": []
    }
  ]
}