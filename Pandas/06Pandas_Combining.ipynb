{
  "nbformat": 4,
  "nbformat_minor": 0,
  "metadata": {
    "colab": {
      "provenance": []
    },
    "kernelspec": {
      "name": "python3",
      "display_name": "Python 3"
    },
    "language_info": {
      "name": "python"
    }
  },
  "cells": [
    {
      "cell_type": "code",
      "execution_count": 1,
      "metadata": {
        "id": "P9NEdePZimfr"
      },
      "outputs": [],
      "source": [
        "import pandas"
      ]
    },
    {
      "cell_type": "code",
      "source": [
        "url=\"https://raw.githubusercontent.com/Anamkhan28/DataSets/refs/heads/main/FitnessCustomers.csv\"\n",
        "df=pandas.read_csv(url)\n",
        "print(df)\n"
      ],
      "metadata": {
        "colab": {
          "base_uri": "https://localhost:8080/"
        },
        "id": "YGEK2Mwoi6tl",
        "outputId": "f0e4a583-5420-4561-fab6-63aeafb69c4d"
      },
      "execution_count": 3,
      "outputs": [
        {
          "output_type": "stream",
          "name": "stdout",
          "text": [
            "    CustomerID  Age  Gender  Weight  Height   BMI  ExerciseTime Smoking  \\\n",
            "0     CUST1000   56    Male      72     181  22.0            11      No   \n",
            "1     CUST1001   46  Female      75     180  23.1            69      No   \n",
            "2     CUST1002   32  Female      83     165  30.5            16      No   \n",
            "3     CUST1003   60  Female      95     181  29.0           114      No   \n",
            "4     CUST1004   25    Male      83     181  25.3            18      No   \n",
            "..         ...  ...     ...     ...     ...   ...           ...     ...   \n",
            "995   CUST1995   22    Male      61     154  25.7            79      No   \n",
            "996   CUST1996   40    Male      76     166  27.6            71      No   \n",
            "997   CUST1997   27  Female      89     169  31.2            96      No   \n",
            "998   CUST1998   61    Male      51     190  14.1           112     Yes   \n",
            "999   CUST1999   19    Male      62     195  16.3            11     Yes   \n",
            "\n",
            "    Alcohol  CaloriesIntake  StepsDay  FitnessGoal     Status MembershipType  \\\n",
            "0        No            2034     12940  Maintenance  Off Track        Premium   \n",
            "1        No            3216      9240  Weight Loss   On Track        Premium   \n",
            "2       Yes            2816     14363  Muscle Gain  Off Track        Premium   \n",
            "3        No            2532      6408  Weight Loss  Off Track        Premium   \n",
            "4       Yes            2794      4861  Muscle Gain  Off Track          Basic   \n",
            "..      ...             ...       ...          ...        ...            ...   \n",
            "995      No            2858      7957  Weight Loss  Off Track          Basic   \n",
            "996      No            3287      1766  Maintenance  Off Track        Premium   \n",
            "997     Yes            1868      3681  Muscle Gain  Off Track        Premium   \n",
            "998      No            3384      8710  Weight Loss  Off Track        Premium   \n",
            "999     Yes            3107      8482  Muscle Gain  Off Track        Premium   \n",
            "\n",
            "    Region  \n",
            "0     West  \n",
            "1     East  \n",
            "2    South  \n",
            "3     West  \n",
            "4    South  \n",
            "..     ...  \n",
            "995  South  \n",
            "996  South  \n",
            "997  North  \n",
            "998  South  \n",
            "999  North  \n",
            "\n",
            "[1000 rows x 15 columns]\n"
          ]
        }
      ]
    },
    {
      "cell_type": "code",
      "source": [
        "print(df.head(5))"
      ],
      "metadata": {
        "colab": {
          "base_uri": "https://localhost:8080/"
        },
        "id": "BNxhuK5Zjlq9",
        "outputId": "5ffd3d80-0d31-42ef-d0ae-2d056de6b7b5"
      },
      "execution_count": 5,
      "outputs": [
        {
          "output_type": "stream",
          "name": "stdout",
          "text": [
            "  CustomerID  Age  Gender  Weight  Height   BMI  ExerciseTime Smoking Alcohol  \\\n",
            "0   CUST1000   56    Male      72     181  22.0            11      No      No   \n",
            "1   CUST1001   46  Female      75     180  23.1            69      No      No   \n",
            "2   CUST1002   32  Female      83     165  30.5            16      No     Yes   \n",
            "3   CUST1003   60  Female      95     181  29.0           114      No      No   \n",
            "4   CUST1004   25    Male      83     181  25.3            18      No     Yes   \n",
            "\n",
            "   CaloriesIntake  StepsDay  FitnessGoal     Status MembershipType Region  \n",
            "0            2034     12940  Maintenance  Off Track        Premium   West  \n",
            "1            3216      9240  Weight Loss   On Track        Premium   East  \n",
            "2            2816     14363  Muscle Gain  Off Track        Premium  South  \n",
            "3            2532      6408  Weight Loss  Off Track        Premium   West  \n",
            "4            2794      4861  Muscle Gain  Off Track          Basic  South  \n"
          ]
        }
      ]
    },
    {
      "cell_type": "code",
      "source": [
        "print(df.tail(5))"
      ],
      "metadata": {
        "colab": {
          "base_uri": "https://localhost:8080/"
        },
        "id": "TCbn3Wdkj1Wc",
        "outputId": "c16a7885-cbeb-414e-e7d0-18f5b8732757"
      },
      "execution_count": 6,
      "outputs": [
        {
          "output_type": "stream",
          "name": "stdout",
          "text": [
            "    CustomerID  Age  Gender  Weight  Height   BMI  ExerciseTime Smoking  \\\n",
            "995   CUST1995   22    Male      61     154  25.7            79      No   \n",
            "996   CUST1996   40    Male      76     166  27.6            71      No   \n",
            "997   CUST1997   27  Female      89     169  31.2            96      No   \n",
            "998   CUST1998   61    Male      51     190  14.1           112     Yes   \n",
            "999   CUST1999   19    Male      62     195  16.3            11     Yes   \n",
            "\n",
            "    Alcohol  CaloriesIntake  StepsDay  FitnessGoal     Status MembershipType  \\\n",
            "995      No            2858      7957  Weight Loss  Off Track          Basic   \n",
            "996      No            3287      1766  Maintenance  Off Track        Premium   \n",
            "997     Yes            1868      3681  Muscle Gain  Off Track        Premium   \n",
            "998      No            3384      8710  Weight Loss  Off Track        Premium   \n",
            "999     Yes            3107      8482  Muscle Gain  Off Track        Premium   \n",
            "\n",
            "    Region  \n",
            "995  South  \n",
            "996  South  \n",
            "997  North  \n",
            "998  South  \n",
            "999  North  \n"
          ]
        }
      ]
    },
    {
      "cell_type": "code",
      "source": [
        "res=pandas.concat([df.head(4),df.tail(6)])\n",
        "print(res)\n",
        ""
      ],
      "metadata": {
        "colab": {
          "base_uri": "https://localhost:8080/"
        },
        "id": "_8JLpAKDkEDq",
        "outputId": "0b9ccbb8-004e-45db-8a8d-47221dfb273c"
      },
      "execution_count": 7,
      "outputs": [
        {
          "output_type": "stream",
          "name": "stdout",
          "text": [
            "    CustomerID  Age  Gender  Weight  Height   BMI  ExerciseTime Smoking  \\\n",
            "0     CUST1000   56    Male      72     181  22.0            11      No   \n",
            "1     CUST1001   46  Female      75     180  23.1            69      No   \n",
            "2     CUST1002   32  Female      83     165  30.5            16      No   \n",
            "3     CUST1003   60  Female      95     181  29.0           114      No   \n",
            "994   CUST1994   27  Female      85     177  27.1           115      No   \n",
            "995   CUST1995   22    Male      61     154  25.7            79      No   \n",
            "996   CUST1996   40    Male      76     166  27.6            71      No   \n",
            "997   CUST1997   27  Female      89     169  31.2            96      No   \n",
            "998   CUST1998   61    Male      51     190  14.1           112     Yes   \n",
            "999   CUST1999   19    Male      62     195  16.3            11     Yes   \n",
            "\n",
            "    Alcohol  CaloriesIntake  StepsDay  FitnessGoal     Status MembershipType  \\\n",
            "0        No            2034     12940  Maintenance  Off Track        Premium   \n",
            "1        No            3216      9240  Weight Loss   On Track        Premium   \n",
            "2       Yes            2816     14363  Muscle Gain  Off Track        Premium   \n",
            "3        No            2532      6408  Weight Loss  Off Track        Premium   \n",
            "994     Yes            3124      4782  Muscle Gain  Off Track        Premium   \n",
            "995      No            2858      7957  Weight Loss  Off Track          Basic   \n",
            "996      No            3287      1766  Maintenance  Off Track        Premium   \n",
            "997     Yes            1868      3681  Muscle Gain  Off Track        Premium   \n",
            "998      No            3384      8710  Weight Loss  Off Track        Premium   \n",
            "999     Yes            3107      8482  Muscle Gain  Off Track        Premium   \n",
            "\n",
            "    Region  \n",
            "0     West  \n",
            "1     East  \n",
            "2    South  \n",
            "3     West  \n",
            "994   East  \n",
            "995  South  \n",
            "996  South  \n",
            "997  North  \n",
            "998  South  \n",
            "999  North  \n"
          ]
        }
      ]
    },
    {
      "cell_type": "code",
      "source": [
        "df1=df[['Age']]\n",
        "df2=df[['Gender','Region']]\n",
        "df3=df['FitnessGoal']\n",
        "print(df1)\n",
        "print(df2)\n",
        "print(df3)"
      ],
      "metadata": {
        "colab": {
          "base_uri": "https://localhost:8080/"
        },
        "id": "iN1MuVc6kL1T",
        "outputId": "072edec6-e9ce-4ac3-c5d0-60b469bbb4f1"
      },
      "execution_count": 8,
      "outputs": [
        {
          "output_type": "stream",
          "name": "stdout",
          "text": [
            "     Age\n",
            "0     56\n",
            "1     46\n",
            "2     32\n",
            "3     60\n",
            "4     25\n",
            "..   ...\n",
            "995   22\n",
            "996   40\n",
            "997   27\n",
            "998   61\n",
            "999   19\n",
            "\n",
            "[1000 rows x 1 columns]\n",
            "     Gender Region\n",
            "0      Male   West\n",
            "1    Female   East\n",
            "2    Female  South\n",
            "3    Female   West\n",
            "4      Male  South\n",
            "..      ...    ...\n",
            "995    Male  South\n",
            "996    Male  South\n",
            "997  Female  North\n",
            "998    Male  South\n",
            "999    Male  North\n",
            "\n",
            "[1000 rows x 2 columns]\n",
            "0      Maintenance\n",
            "1      Weight Loss\n",
            "2      Muscle Gain\n",
            "3      Weight Loss\n",
            "4      Muscle Gain\n",
            "          ...     \n",
            "995    Weight Loss\n",
            "996    Maintenance\n",
            "997    Muscle Gain\n",
            "998    Weight Loss\n",
            "999    Muscle Gain\n",
            "Name: FitnessGoal, Length: 1000, dtype: object\n"
          ]
        }
      ]
    },
    {
      "cell_type": "code",
      "source": [
        "res=pandas.concat([df1,df2,df3],axis=1)\n",
        "print(res)\n",
        ""
      ],
      "metadata": {
        "colab": {
          "base_uri": "https://localhost:8080/"
        },
        "id": "RABhN55-kzu1",
        "outputId": "261c1821-68c2-4f7b-f056-686882fe32b9"
      },
      "execution_count": 10,
      "outputs": [
        {
          "output_type": "stream",
          "name": "stdout",
          "text": [
            "     Age  Gender Region  FitnessGoal\n",
            "0     56    Male   West  Maintenance\n",
            "1     46  Female   East  Weight Loss\n",
            "2     32  Female  South  Muscle Gain\n",
            "3     60  Female   West  Weight Loss\n",
            "4     25    Male  South  Muscle Gain\n",
            "..   ...     ...    ...          ...\n",
            "995   22    Male  South  Weight Loss\n",
            "996   40    Male  South  Maintenance\n",
            "997   27  Female  North  Muscle Gain\n",
            "998   61    Male  South  Weight Loss\n",
            "999   19    Male  North  Muscle Gain\n",
            "\n",
            "[1000 rows x 4 columns]\n"
          ]
        }
      ]
    }
  ]
}